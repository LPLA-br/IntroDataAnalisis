{
 "cells": [
  {
   "cell_type": "markdown",
   "id": "c2ea2b11-4a2c-4904-aa3b-bbc81321ffea",
   "metadata": {},
   "source": [
    "# Regressão linear sobre dados de estação meteorológica em brasilia\n",
    "Conjunto de dados de 1/1/2024 até 1/1/2025"
   ]
  },
  {
   "cell_type": "code",
   "execution_count": null,
   "id": "750edc66-e2a1-4918-b7d7-7a6264b1b9fa",
   "metadata": {},
   "outputs": [],
   "source": [
    "import numpy as np\n",
    "import pandas as pd\n",
    "import seaborn as sns\n",
    "from sklearn.datasets import fetch_california_housing\n",
    "from sklearn.model_selection import train_test_split\n",
    "from sklearn.linear_model import LinearRegression\n",
    "from sklearn.metrics import mean_squared_error\n",
    "import matplotlib.pyplot as plt\n",
    "\n",
    "#sklearn.datasets.load_diabetes(*, return_X_y=False, as_frame=False, scaled=True)"
   ]
  }
 ],
 "metadata": {
  "kernelspec": {
   "display_name": "Python 3 (ipykernel)",
   "language": "python",
   "name": "python3"
  },
  "language_info": {
   "codemirror_mode": {
    "name": "ipython",
    "version": 3
   },
   "file_extension": ".py",
   "mimetype": "text/x-python",
   "name": "python",
   "nbconvert_exporter": "python",
   "pygments_lexer": "ipython3",
   "version": "3.11.6"
  }
 },
 "nbformat": 4,
 "nbformat_minor": 5
}
