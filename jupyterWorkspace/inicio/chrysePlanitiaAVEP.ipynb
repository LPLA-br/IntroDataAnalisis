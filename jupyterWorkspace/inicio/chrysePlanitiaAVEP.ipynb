{
 "cells": [
  {
   "cell_type": "code",
   "execution_count": 1,
   "id": "e8f35763-6583-4ac1-86e5-44ba7e7bc360",
   "metadata": {},
   "outputs": [],
   "source": [
    "arquivo = open('vl_avep.dat','r')"
   ]
  },
  {
   "cell_type": "code",
   "execution_count": 2,
   "id": "e8a71972-4de4-471e-b2f8-8769f65b55e3",
   "metadata": {},
   "outputs": [],
   "source": [
    "texto = arquivo.read()"
   ]
  },
  {
   "cell_type": "code",
   "execution_count": 3,
   "id": "c715669b-607e-46a5-ad36-451663e021b0",
   "metadata": {},
   "outputs": [],
   "source": [
    "arquivo.close()"
   ]
  },
  {
   "cell_type": "code",
   "execution_count": 4,
   "id": "14e4262b-0edd-433a-a478-2778934584d3",
   "metadata": {},
   "outputs": [],
   "source": [
    "listaLinhas = texto.split('\\n')"
   ]
  },
  {
   "cell_type": "code",
   "execution_count": 5,
   "id": "0e470eb9-e8d2-457f-9e10-917bb1359eca",
   "metadata": {},
   "outputs": [],
   "source": [
    "listaEntradasCruas = []\n",
    "for linha in listaLinhas:\n",
    "    listaEntradasCruas.append( linha.split() )"
   ]
  },
  {
   "cell_type": "code",
   "execution_count": 6,
   "id": "4c241228-0f68-47f1-9f38-97522978575e",
   "metadata": {},
   "outputs": [
    {
     "data": {
      "text/plain": [
       "17"
      ]
     },
     "execution_count": 6,
     "metadata": {},
     "output_type": "execute_result"
    }
   ],
   "source": [
    "len(listaEntradasCruas[0])"
   ]
  },
  {
   "cell_type": "code",
   "execution_count": 7,
   "id": "0e800a7e-7324-416d-b54f-66fb65b13fbf",
   "metadata": {},
   "outputs": [],
   "source": [
    "#extraindo colunas mais significantes para propósito da atividade\n",
    "listaSignificantes = []\n",
    "for x in listaEntradasCruas:\n",
    "    if len(x) == 17:\n",
    "        listaSignificantes.append( [\n",
    "            int(x[1]),float(x[2]),\n",
    "            int(x[3]),float(x[4])\n",
    "        ] )"
   ]
  },
  {
   "cell_type": "code",
   "execution_count": 8,
   "id": "9617f7e3-5781-4d9c-8a69-7a8dab2a6a1d",
   "metadata": {},
   "outputs": [
    {
     "data": {
      "text/plain": [
       "3297"
      ]
     },
     "execution_count": 8,
     "metadata": {},
     "output_type": "execute_result"
    }
   ],
   "source": [
    "len(listaSignificantes)"
   ]
  },
  {
   "cell_type": "code",
   "execution_count": 9,
   "id": "c589537a-0c2d-4be3-8fbe-56d0739f0679",
   "metadata": {},
   "outputs": [],
   "source": [
    "import pandas as pd\n",
    "df = pd.DataFrame(listaSignificantes, columns=[\n",
    "                    'vikingYear','longitudeAreocentrica',\n",
    "                    'sol', 'pressaoAtmosfericaMediaDiaria'\n",
    "                 ])"
   ]
  },
  {
   "cell_type": "code",
   "execution_count": 10,
   "id": "46bf9239-bbed-48cf-aebc-74ec79d7ddbc",
   "metadata": {},
   "outputs": [
    {
     "data": {
      "text/html": [
       "<div>\n",
       "<style scoped>\n",
       "    .dataframe tbody tr th:only-of-type {\n",
       "        vertical-align: middle;\n",
       "    }\n",
       "\n",
       "    .dataframe tbody tr th {\n",
       "        vertical-align: top;\n",
       "    }\n",
       "\n",
       "    .dataframe thead th {\n",
       "        text-align: right;\n",
       "    }\n",
       "</style>\n",
       "<table border=\"1\" class=\"dataframe\">\n",
       "  <thead>\n",
       "    <tr style=\"text-align: right;\">\n",
       "      <th></th>\n",
       "      <th>vikingYear</th>\n",
       "      <th>longitudeAreocentrica</th>\n",
       "      <th>sol</th>\n",
       "      <th>pressaoAtmosfericaMediaDiaria</th>\n",
       "    </tr>\n",
       "  </thead>\n",
       "  <tbody>\n",
       "    <tr>\n",
       "      <th>0</th>\n",
       "      <td>1</td>\n",
       "      <td>97.039</td>\n",
       "      <td>0</td>\n",
       "      <td>7.624</td>\n",
       "    </tr>\n",
       "    <tr>\n",
       "      <th>1</th>\n",
       "      <td>1</td>\n",
       "      <td>97.196</td>\n",
       "      <td>1</td>\n",
       "      <td>7.629</td>\n",
       "    </tr>\n",
       "    <tr>\n",
       "      <th>2</th>\n",
       "      <td>1</td>\n",
       "      <td>97.655</td>\n",
       "      <td>2</td>\n",
       "      <td>7.606</td>\n",
       "    </tr>\n",
       "    <tr>\n",
       "      <th>3</th>\n",
       "      <td>1</td>\n",
       "      <td>98.113</td>\n",
       "      <td>3</td>\n",
       "      <td>7.581</td>\n",
       "    </tr>\n",
       "    <tr>\n",
       "      <th>4</th>\n",
       "      <td>1</td>\n",
       "      <td>98.572</td>\n",
       "      <td>4</td>\n",
       "      <td>7.579</td>\n",
       "    </tr>\n",
       "  </tbody>\n",
       "</table>\n",
       "</div>"
      ],
      "text/plain": [
       "   vikingYear  longitudeAreocentrica  sol  pressaoAtmosfericaMediaDiaria\n",
       "0           1                 97.039    0                          7.624\n",
       "1           1                 97.196    1                          7.629\n",
       "2           1                 97.655    2                          7.606\n",
       "3           1                 98.113    3                          7.581\n",
       "4           1                 98.572    4                          7.579"
      ]
     },
     "execution_count": 10,
     "metadata": {},
     "output_type": "execute_result"
    }
   ],
   "source": [
    "df.head()"
   ]
  },
  {
   "cell_type": "code",
   "execution_count": 11,
   "id": "3bbae9c9-7e04-4b1f-9cac-a6fb24185f79",
   "metadata": {},
   "outputs": [
    {
     "data": {
      "text/html": [
       "<div>\n",
       "<style scoped>\n",
       "    .dataframe tbody tr th:only-of-type {\n",
       "        vertical-align: middle;\n",
       "    }\n",
       "\n",
       "    .dataframe tbody tr th {\n",
       "        vertical-align: top;\n",
       "    }\n",
       "\n",
       "    .dataframe thead th {\n",
       "        text-align: right;\n",
       "    }\n",
       "</style>\n",
       "<table border=\"1\" class=\"dataframe\">\n",
       "  <thead>\n",
       "    <tr style=\"text-align: right;\">\n",
       "      <th></th>\n",
       "      <th>vikingYear</th>\n",
       "      <th>longitudeAreocentrica</th>\n",
       "      <th>sol</th>\n",
       "      <th>pressaoAtmosfericaMediaDiaria</th>\n",
       "    </tr>\n",
       "  </thead>\n",
       "  <tbody>\n",
       "    <tr>\n",
       "      <th>count</th>\n",
       "      <td>3297.000000</td>\n",
       "      <td>3297.000000</td>\n",
       "      <td>3297.000000</td>\n",
       "      <td>3297.000000</td>\n",
       "    </tr>\n",
       "    <tr>\n",
       "      <th>mean</th>\n",
       "      <td>2.208371</td>\n",
       "      <td>175.332975</td>\n",
       "      <td>932.032150</td>\n",
       "      <td>4.326321</td>\n",
       "    </tr>\n",
       "    <tr>\n",
       "      <th>std</th>\n",
       "      <td>0.984382</td>\n",
       "      <td>99.812295</td>\n",
       "      <td>627.184194</td>\n",
       "      <td>7.422470</td>\n",
       "    </tr>\n",
       "    <tr>\n",
       "      <th>min</th>\n",
       "      <td>1.000000</td>\n",
       "      <td>0.013000</td>\n",
       "      <td>0.000000</td>\n",
       "      <td>-9.999000</td>\n",
       "    </tr>\n",
       "    <tr>\n",
       "      <th>25%</th>\n",
       "      <td>1.000000</td>\n",
       "      <td>95.774000</td>\n",
       "      <td>412.000000</td>\n",
       "      <td>6.867000</td>\n",
       "    </tr>\n",
       "    <tr>\n",
       "      <th>50%</th>\n",
       "      <td>2.000000</td>\n",
       "      <td>168.353000</td>\n",
       "      <td>824.000000</td>\n",
       "      <td>7.790000</td>\n",
       "    </tr>\n",
       "    <tr>\n",
       "      <th>75%</th>\n",
       "      <td>3.000000</td>\n",
       "      <td>258.612000</td>\n",
       "      <td>1421.000000</td>\n",
       "      <td>8.459000</td>\n",
       "    </tr>\n",
       "    <tr>\n",
       "      <th>max</th>\n",
       "      <td>4.000000</td>\n",
       "      <td>359.967000</td>\n",
       "      <td>2245.000000</td>\n",
       "      <td>10.198000</td>\n",
       "    </tr>\n",
       "  </tbody>\n",
       "</table>\n",
       "</div>"
      ],
      "text/plain": [
       "        vikingYear  longitudeAreocentrica          sol  \\\n",
       "count  3297.000000            3297.000000  3297.000000   \n",
       "mean      2.208371             175.332975   932.032150   \n",
       "std       0.984382              99.812295   627.184194   \n",
       "min       1.000000               0.013000     0.000000   \n",
       "25%       1.000000              95.774000   412.000000   \n",
       "50%       2.000000             168.353000   824.000000   \n",
       "75%       3.000000             258.612000  1421.000000   \n",
       "max       4.000000             359.967000  2245.000000   \n",
       "\n",
       "       pressaoAtmosfericaMediaDiaria  \n",
       "count                    3297.000000  \n",
       "mean                        4.326321  \n",
       "std                         7.422470  \n",
       "min                        -9.999000  \n",
       "25%                         6.867000  \n",
       "50%                         7.790000  \n",
       "75%                         8.459000  \n",
       "max                        10.198000  "
      ]
     },
     "execution_count": 11,
     "metadata": {},
     "output_type": "execute_result"
    }
   ],
   "source": [
    "df.describe()"
   ]
  },
  {
   "cell_type": "code",
   "execution_count": 12,
   "id": "fee7a718-6fe9-4541-9ca3-208b4a61f631",
   "metadata": {},
   "outputs": [
    {
     "name": "stdout",
     "output_type": "stream",
     "text": [
      "<class 'pandas.core.frame.DataFrame'>\n",
      "RangeIndex: 3297 entries, 0 to 3296\n",
      "Data columns (total 4 columns):\n",
      " #   Column                         Non-Null Count  Dtype  \n",
      "---  ------                         --------------  -----  \n",
      " 0   vikingYear                     3297 non-null   int64  \n",
      " 1   longitudeAreocentrica          3297 non-null   float64\n",
      " 2   sol                            3297 non-null   int64  \n",
      " 3   pressaoAtmosfericaMediaDiaria  3297 non-null   float64\n",
      "dtypes: float64(2), int64(2)\n",
      "memory usage: 103.2 KB\n"
     ]
    }
   ],
   "source": [
    "df.info()"
   ]
  },
  {
   "cell_type": "code",
   "execution_count": 13,
   "id": "a9e33b00-c8b0-4096-a3f4-edc277d9bbb2",
   "metadata": {},
   "outputs": [
    {
     "name": "stdout",
     "output_type": "stream",
     "text": [
      "vikingYear                       0\n",
      "longitudeAreocentrica            0\n",
      "sol                              0\n",
      "pressaoAtmosfericaMediaDiaria    0\n",
      "dtype: int64 \n",
      "\n",
      "\n",
      " 0\n"
     ]
    }
   ],
   "source": [
    "#verificando valores ausentes e duplicatas\n",
    "print( df.isnull().sum(),\"\\n\\n\\n\", df.duplicated().sum())"
   ]
  },
  {
   "cell_type": "code",
   "execution_count": 14,
   "id": "edd6b1f5-9b5d-402b-8e6d-3fc9cc08341f",
   "metadata": {},
   "outputs": [
    {
     "name": "stdout",
     "output_type": "stream",
     "text": [
      "692 2605\n"
     ]
    }
   ],
   "source": [
    "#verificando noValueFlag de acordo com o documentado em vl_avep.lbl\n",
    "print(\n",
    "(df['pressaoAtmosfericaMediaDiaria'] == -9.999).sum(),\n",
    "(df['pressaoAtmosfericaMediaDiaria'] != -9.999).sum()\n",
    ")"
   ]
  },
  {
   "cell_type": "code",
   "execution_count": 15,
   "id": "a829b341-11ff-4f59-b5b5-ccc8fc93416b",
   "metadata": {},
   "outputs": [],
   "source": [
    "# DEFININDO TRANSFORMAÇÕES E NORMALIZAÇÕES.\n",
    "#Transformação de campos válidos de pressão em milibar para pascal\n",
    "def millibarParaPascal(mb=-9.999):\n",
    "    if mb != -9.999:\n",
    "        return mb*100\n",
    "    return -9.999\n",
    "#Normalizar longitude solar areocentrica\n",
    "# 0=equinócio para norte, 1=solstício para norte,\n",
    "# 2=equinócio para sul,   3=solstício para sul.\n",
    "def normalizarLSA( lsa=0 ):\n",
    "    if lsa <= 90:\n",
    "        return 0\n",
    "    elif lsa > 90 and lsa <=180:\n",
    "        return 1\n",
    "    elif lsa > 180 and lsa <=270:\n",
    "        return 2\n",
    "    else:\n",
    "        return 3"
   ]
  },
  {
   "cell_type": "code",
   "execution_count": 16,
   "id": "42e320bd-7736-4a6c-adc1-c6ca6474546e",
   "metadata": {},
   "outputs": [],
   "source": [
    "#APLICANDO TRANSFORMAÇÕES E NORMALIZAÇÕES\n",
    "#Pressão atmosférica em unidades SI padrão\n",
    "df['pressaoAtmosfericaMediaDiaria']=df['pressaoAtmosfericaMediaDiaria'].apply(millibarParaPascal)\n",
    "#Longitude solar areocentrica abstrata em 4 valores\n",
    "df['longitudeAreocentrica']=df['longitudeAreocentrica'].apply(normalizarLSA)"
   ]
  },
  {
   "cell_type": "code",
   "execution_count": 17,
   "id": "4f45f2fd-12d6-4357-bb8c-64f95200e108",
   "metadata": {},
   "outputs": [
    {
     "data": {
      "text/html": [
       "<div>\n",
       "<style scoped>\n",
       "    .dataframe tbody tr th:only-of-type {\n",
       "        vertical-align: middle;\n",
       "    }\n",
       "\n",
       "    .dataframe tbody tr th {\n",
       "        vertical-align: top;\n",
       "    }\n",
       "\n",
       "    .dataframe thead th {\n",
       "        text-align: right;\n",
       "    }\n",
       "</style>\n",
       "<table border=\"1\" class=\"dataframe\">\n",
       "  <thead>\n",
       "    <tr style=\"text-align: right;\">\n",
       "      <th></th>\n",
       "      <th>vikingYear</th>\n",
       "      <th>longitudeAreocentrica</th>\n",
       "      <th>sol</th>\n",
       "      <th>pressaoAtmosfericaMediaDiaria</th>\n",
       "    </tr>\n",
       "  </thead>\n",
       "  <tbody>\n",
       "    <tr>\n",
       "      <th>0</th>\n",
       "      <td>1</td>\n",
       "      <td>1</td>\n",
       "      <td>0</td>\n",
       "      <td>762.4</td>\n",
       "    </tr>\n",
       "  </tbody>\n",
       "</table>\n",
       "</div>"
      ],
      "text/plain": [
       "   vikingYear  longitudeAreocentrica  sol  pressaoAtmosfericaMediaDiaria\n",
       "0           1                      1    0                          762.4"
      ]
     },
     "execution_count": 17,
     "metadata": {},
     "output_type": "execute_result"
    }
   ],
   "source": [
    "df.head(1)"
   ]
  },
  {
   "cell_type": "code",
   "execution_count": 23,
   "id": "3a45ae43-ab00-49b7-9863-28edbcc86742",
   "metadata": {
    "scrolled": true
   },
   "outputs": [
    {
     "name": "stdout",
     "output_type": "stream",
     "text": [
      "813.1742418426105\n"
     ]
    }
   ],
   "source": [
    "# convertendo noValueFlag para média dos campos válidos\n",
    "subconjunto = df[df['pressaoAtmosfericaMediaDiaria'] != -9.999]\n",
    "mediaDosValidos = subconjunto['pressaoAtmosfericaMediaDiaria'].mean()\n",
    "print(mediaDosValidos)\n",
    "df['pressaoAtmosfericaMediaDiaria']=df['pressaoAtmosfericaMediaDiaria'].replace(-9.999, mediaDosValidos)"
   ]
  },
  {
   "cell_type": "code",
   "execution_count": 41,
   "id": "85d77a9d-e621-4644-9931-fc83bd0524c4",
   "metadata": {},
   "outputs": [
    {
     "data": {
      "text/plain": [
       "<Axes: >"
      ]
     },
     "execution_count": 41,
     "metadata": {},
     "output_type": "execute_result"
    },
    {
     "data": {
      "image/png": "[encoded data removed]",
      "text/plain": [
       "<Figure size 640x480 with 1 Axes>"
      ]
     },
     "metadata": {},
     "output_type": "display_data"
    }
   ],
   "source": [
    "df['pressaoAtmosfericaMediaDiaria'].plot(kind='line')"
   ]
  },
  {
   "cell_type": "code",
   "execution_count": 40,
   "id": "6f058e9c-9a2f-4e59-a49f-5b62fa770664",
   "metadata": {},
   "outputs": [
    {
     "data": {
      "text/plain": [
       "<Axes: >"
      ]
     },
     "execution_count": 40,
     "metadata": {},
     "output_type": "execute_result"
    },
    {
     "data": {
      "image/png": "[encoded data removed]",
      "text/plain": [
       "<Figure size 640x480 with 1 Axes>"
      ]
     },
     "metadata": {},
     "output_type": "display_data"
    }
   ],
   "source": [
    "#Verificando transformação anterior e buscando outliers\n",
    "df['pressaoAtmosfericaMediaDiaria'].plot(kind='box')"
   ]
  },
  {
   "cell_type": "code",
   "execution_count": 68,
   "id": "d3bdce31-2b05-46e8-bf93-703c7de7d8f1",
   "metadata": {},
   "outputs": [
    {
     "data": {
      "text/plain": [
       "<Axes: >"
      ]
     },
     "execution_count": 68,
     "metadata": {},
     "output_type": "execute_result"
    },
    {
     "data": {
      "image/png": "[encoded data removed]",
      "text/plain": [
       "<Figure size 640x480 with 1 Axes>"
      ]
     },
     "metadata": {},
     "output_type": "display_data"
    }
   ],
   "source": [
    "getOutOutliers = df[df['pressaoAtmosfericaMediaDiaria'] < df['pressaoAtmosfericaMediaDiaria'].quantile(0.92)]\n",
    "getOutOutliers['pressaoAtmosfericaMediaDiaria'].plot(kind='box')"
   ]
  },
  {
   "cell_type": "code",
   "execution_count": 67,
   "id": "05ef1caf-c0d5-4df5-83e7-81760ec8d968",
   "metadata": {},
   "outputs": [],
   "source": [
    "#salvando os dados manipulados\n",
    "df.to_csv('chrysePlanitia.csv', index=False)"
   ]
  },
  {
   "cell_type": "code",
   "execution_count": null,
   "id": "c03a7217-1e1d-4deb-9a04-024758f36629",
   "metadata": {},
   "outputs": [],
   "source": []
  }
 ],
 "metadata": {
  "kernelspec": {
   "display_name": "Python 3 (ipykernel)",
   "language": "python",
   "name": "python3"
  },
  "language_info": {
   "codemirror_mode": {
    "name": "ipython",
    "version": 3
   },
   "file_extension": ".py",
   "mimetype": "text/x-python",
   "name": "python",
   "nbconvert_exporter": "python",
   "pygments_lexer": "ipython3",
   "version": "3.11.6"
  }
 },
 "nbformat": 4,
 "nbformat_minor": 5
}
