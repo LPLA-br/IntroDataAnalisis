{
 "cells": [
  {
   "cell_type": "code",
   "execution_count": 1,
   "id": "1e3c0bb6-55ee-4418-89ed-6c0c7b993541",
   "metadata": {},
   "outputs": [],
   "source": [
    "#importação\n",
    "arquivo = open('vl_p.dat','r',1,'utf-8')"
   ]
  },
  {
   "cell_type": "code",
   "execution_count": 2,
   "id": "45a2167e-c2de-4ae8-bce9-c9b9984cb221",
   "metadata": {},
   "outputs": [],
   "source": [
    "texto = arquivo.read()"
   ]
  },
  {
   "cell_type": "code",
   "execution_count": 3,
   "id": "969b2a0b-9f0a-4307-98a5-8b165acad62d",
   "metadata": {},
   "outputs": [],
   "source": [
    "linhas = texto.split('\\n')"
   ]
  },
  {
   "cell_type": "code",
   "execution_count": 4,
   "id": "608d07fd-76af-4a95-a245-0f8ad2f2ae32",
   "metadata": {},
   "outputs": [
    {
     "name": "stdout",
     "output_type": "stream",
     "text": [
      " VL1  1  97.073    0 18  0 49  7.534\n"
     ]
    }
   ],
   "source": [
    "print(linhas[0])"
   ]
  },
  {
   "cell_type": "code",
   "execution_count": 5,
   "id": "1926b8ea-2b79-4600-a799-cb7598f0c9f2",
   "metadata": {},
   "outputs": [],
   "source": [
    "entradas = []\n",
    "for linha in linhas:\n",
    "    entradas.append(linha.split())"
   ]
  },
  {
   "cell_type": "code",
   "execution_count": 6,
   "id": "586e22da-597f-43e2-b54e-6aeed58d096b",
   "metadata": {},
   "outputs": [
    {
     "name": "stdout",
     "output_type": "stream",
     "text": [
      "['VL1', '1', '97.073', '0', '18', '0', '49', '7.534']\n"
     ]
    }
   ],
   "source": [
    "print(entradas[0])"
   ]
  },
  {
   "cell_type": "code",
   "execution_count": 7,
   "id": "f050cb78-028d-4b74-8d10-7333ccd536df",
   "metadata": {},
   "outputs": [],
   "source": [
    "dados = []\n",
    "for x in entradas:\n",
    "    if len(x) == 8:\n",
    "        dados.append([x[0],int(x[1]),float(x[2]),int(x[3]),int(x[4]),int(x[5]),int(x[6]),float(x[7])])\n",
    "    continue"
   ]
  },
  {
   "cell_type": "code",
   "execution_count": 8,
   "id": "b4375868-490a-4b17-8258-3a8e10f02196",
   "metadata": {},
   "outputs": [
    {
     "name": "stdout",
     "output_type": "stream",
     "text": [
      "['VL1', 1, 97.073, 0, 18, 0, 49, 7.534]\n"
     ]
    }
   ],
   "source": [
    "print(dados[0])"
   ]
  },
  {
   "cell_type": "code",
   "execution_count": 9,
   "id": "40488a09-f906-4015-b618-37a0e790c321",
   "metadata": {},
   "outputs": [],
   "source": [
    "#descartando lixo inútil\n",
    "arquivo.close()\n",
    "texto = \"\"\n",
    "linhas = []\n",
    "entradas = []"
   ]
  },
  {
   "cell_type": "code",
   "execution_count": null,
   "id": "18ffa7d6-45e6-4f0a-bdb5-b134bda7cfbc",
   "metadata": {},
   "outputs": [],
   "source": [
    "import pandas as pd\n",
    "df=pd.DataFrame(dados,columns=[\n",
    "    \"spacecraftID\", \"vikingMissionYear\",\n",
    "    \"logitudeAreocentr icaHora\",\"solMarciano\",\n",
    "    \"HoraLocalTerra24\", \"MinutoLocalTerra\",\n",
    "    \"SegundoLocalTerra\",\"PressaoMilibares\"\n",
    "])\n",
    "#explorando\n",
    "df.head()"
   ]
  },
  {
   "cell_type": "code",
   "execution_count": 11,
   "id": "6a9c8246-3975-43a2-b7c7-dcfc95b5ad79",
   "metadata": {},
   "outputs": [
    {
     "data": {
      "text/plain": [
       "1204408"
      ]
     },
     "execution_count": 11,
     "metadata": {},
     "output_type": "execute_result"
    }
   ],
   "source": [
    "df.size"
   ]
  },
  {
   "cell_type": "code",
   "execution_count": 33,
   "id": "85f21630-98f1-4da3-8cd4-9d6f709e12e2",
   "metadata": {},
   "outputs": [
    {
     "data": {
      "text/html": [
       "<div>\n",
       "<style scoped>\n",
       "    .dataframe tbody tr th:only-of-type {\n",
       "        vertical-align: middle;\n",
       "    }\n",
       "\n",
       "    .dataframe tbody tr th {\n",
       "        vertical-align: top;\n",
       "    }\n",
       "\n",
       "    .dataframe thead th {\n",
       "        text-align: right;\n",
       "    }\n",
       "</style>\n",
       "<table border=\"1\" class=\"dataframe\">\n",
       "  <thead>\n",
       "    <tr style=\"text-align: right;\">\n",
       "      <th></th>\n",
       "      <th>vikingMissionYear</th>\n",
       "      <th>longitudeSolarAreocentrica</th>\n",
       "      <th>solMarciano</th>\n",
       "      <th>HoraLocalTerra24</th>\n",
       "      <th>MinutoLocalTerra</th>\n",
       "      <th>SegundoLocalTerra</th>\n",
       "      <th>pressaoPascais</th>\n",
       "    </tr>\n",
       "  </thead>\n",
       "  <tbody>\n",
       "    <tr>\n",
       "      <th>count</th>\n",
       "      <td>150551.000000</td>\n",
       "      <td>150551.000000</td>\n",
       "      <td>150551.000000</td>\n",
       "      <td>150551.000000</td>\n",
       "      <td>150551.000000</td>\n",
       "      <td>150551.000000</td>\n",
       "      <td>150551.000000</td>\n",
       "    </tr>\n",
       "    <tr>\n",
       "      <th>mean</th>\n",
       "      <td>1.618940</td>\n",
       "      <td>1.382482</td>\n",
       "      <td>520.733054</td>\n",
       "      <td>12.025845</td>\n",
       "      <td>28.719371</td>\n",
       "      <td>29.915637</td>\n",
       "      <td>819.505275</td>\n",
       "    </tr>\n",
       "    <tr>\n",
       "      <th>std</th>\n",
       "      <td>0.828478</td>\n",
       "      <td>1.089488</td>\n",
       "      <td>501.916311</td>\n",
       "      <td>6.893347</td>\n",
       "      <td>17.550036</td>\n",
       "      <td>17.093274</td>\n",
       "      <td>86.271486</td>\n",
       "    </tr>\n",
       "    <tr>\n",
       "      <th>min</th>\n",
       "      <td>1.000000</td>\n",
       "      <td>0.000000</td>\n",
       "      <td>0.000000</td>\n",
       "      <td>0.000000</td>\n",
       "      <td>0.000000</td>\n",
       "      <td>0.000000</td>\n",
       "      <td>651.400000</td>\n",
       "    </tr>\n",
       "    <tr>\n",
       "      <th>25%</th>\n",
       "      <td>1.000000</td>\n",
       "      <td>0.000000</td>\n",
       "      <td>190.000000</td>\n",
       "      <td>6.000000</td>\n",
       "      <td>14.000000</td>\n",
       "      <td>15.000000</td>\n",
       "      <td>746.900000</td>\n",
       "    </tr>\n",
       "    <tr>\n",
       "      <th>50%</th>\n",
       "      <td>1.000000</td>\n",
       "      <td>1.000000</td>\n",
       "      <td>395.000000</td>\n",
       "      <td>12.000000</td>\n",
       "      <td>28.000000</td>\n",
       "      <td>30.000000</td>\n",
       "      <td>813.300000</td>\n",
       "    </tr>\n",
       "    <tr>\n",
       "      <th>75%</th>\n",
       "      <td>2.000000</td>\n",
       "      <td>2.000000</td>\n",
       "      <td>623.000000</td>\n",
       "      <td>18.000000</td>\n",
       "      <td>44.000000</td>\n",
       "      <td>44.000000</td>\n",
       "      <td>887.600000</td>\n",
       "    </tr>\n",
       "    <tr>\n",
       "      <th>max</th>\n",
       "      <td>4.000000</td>\n",
       "      <td>3.000000</td>\n",
       "      <td>2245.000000</td>\n",
       "      <td>24.000000</td>\n",
       "      <td>59.000000</td>\n",
       "      <td>60.000000</td>\n",
       "      <td>1082.600000</td>\n",
       "    </tr>\n",
       "  </tbody>\n",
       "</table>\n",
       "</div>"
      ],
      "text/plain": [
       "       vikingMissionYear  longitudeSolarAreocentrica    solMarciano  \\\n",
       "count      150551.000000               150551.000000  150551.000000   \n",
       "mean            1.618940                    1.382482     520.733054   \n",
       "std             0.828478                    1.089488     501.916311   \n",
       "min             1.000000                    0.000000       0.000000   \n",
       "25%             1.000000                    0.000000     190.000000   \n",
       "50%             1.000000                    1.000000     395.000000   \n",
       "75%             2.000000                    2.000000     623.000000   \n",
       "max             4.000000                    3.000000    2245.000000   \n",
       "\n",
       "       HoraLocalTerra24  MinutoLocalTerra  SegundoLocalTerra  pressaoPascais  \n",
       "count     150551.000000     150551.000000      150551.000000   150551.000000  \n",
       "mean          12.025845         28.719371          29.915637      819.505275  \n",
       "std            6.893347         17.550036          17.093274       86.271486  \n",
       "min            0.000000          0.000000           0.000000      651.400000  \n",
       "25%            6.000000         14.000000          15.000000      746.900000  \n",
       "50%           12.000000         28.000000          30.000000      813.300000  \n",
       "75%           18.000000         44.000000          44.000000      887.600000  \n",
       "max           24.000000         59.000000          60.000000     1082.600000  "
      ]
     },
     "execution_count": 33,
     "metadata": {},
     "output_type": "execute_result"
    }
   ],
   "source": [
    "df.describe()"
   ]
  },
  {
   "cell_type": "code",
   "execution_count": 29,
   "id": "50cc0f8a-23c3-4943-8c53-2f8f2d7b10f8",
   "metadata": {
    "scrolled": true
   },
   "outputs": [
    {
     "data": {
      "text/plain": [
       "spacecraftID                  0\n",
       "vikingMissionYear             0\n",
       "longitudeSolarAreocentrica    0\n",
       "solMarciano                   0\n",
       "HoraLocalTerra24              0\n",
       "MinutoLocalTerra              0\n",
       "SegundoLocalTerra             0\n",
       "pressaoPascais                0\n",
       "dtype: int64"
      ]
     },
     "execution_count": 29,
     "metadata": {},
     "output_type": "execute_result"
    }
   ],
   "source": [
    "#buscando valores ausentes\n",
    "df.isnull().sum()"
   ]
  },
  {
   "cell_type": "code",
   "execution_count": 30,
   "id": "d98271ad-49f7-4a3e-9576-29c0bd7176bb",
   "metadata": {},
   "outputs": [
    {
     "data": {
      "text/plain": [
       "0"
      ]
     },
     "execution_count": 30,
     "metadata": {},
     "output_type": "execute_result"
    }
   ],
   "source": [
    "#buscando duplicatas\n",
    "df.duplicated().sum()"
   ]
  },
  {
   "cell_type": "code",
   "execution_count": 13,
   "id": "a75626ce-2a2f-4b09-87ab-a0d38e48f5b3",
   "metadata": {},
   "outputs": [],
   "source": [
    "def milibaresAPascais(mb=0):\n",
    "    return mb*100"
   ]
  },
  {
   "cell_type": "code",
   "execution_count": 14,
   "id": "0b90be1b-4a95-4024-9246-8d11b046707c",
   "metadata": {},
   "outputs": [],
   "source": [
    "# Transformando milibar para pascal (Sistema Internacional de Medidas)\n",
    "df['PressaoMilibares'] = df['PressaoMilibares'].apply( milibaresAPascais )"
   ]
  },
  {
   "cell_type": "code",
   "execution_count": 15,
   "id": "8cd173f5-f332-4bf9-a332-ae4048108f72",
   "metadata": {},
   "outputs": [],
   "source": [
    "# en=equinócio para norte, sn=solstício para norte,\n",
    "# es=equinócio para sul,   ss=solstício para sul.\n",
    "def normalizarLongitudeSolarAreocentrica( lsa=0 ):\n",
    "    if lsa <= 90:\n",
    "        return 0\n",
    "    elif lsa > 90 and lsa <=180:\n",
    "        return 1\n",
    "    elif lsa > 180 and lsa <=270:\n",
    "        return 2\n",
    "    else:\n",
    "        return 3"
   ]
  },
  {
   "cell_type": "code",
   "execution_count": 16,
   "id": "e43b7dec-ce68-405e-9673-8f656b5330aa",
   "metadata": {},
   "outputs": [],
   "source": [
    "df = df.rename(columns={'PressaoMilibares': 'pressaoPascais'})"
   ]
  },
  {
   "cell_type": "code",
   "execution_count": 17,
   "id": "09fa6c0b-f2bd-4d89-b26e-a99165fe011c",
   "metadata": {},
   "outputs": [],
   "source": [
    "df = df.rename(columns={'logitudeAreocentr icaHora': 'longitudeSolarAreocentrica'})"
   ]
  },
  {
   "cell_type": "code",
   "execution_count": 23,
   "id": "ab062c61-2ab8-4803-9c6e-cdc89a6a2acf",
   "metadata": {},
   "outputs": [],
   "source": [
    "# normalizando campo \n",
    "df['longitudeSolarAreocentrica'] = df['longitudeSolarAreocentrica'].apply( normalizarLongitudeSolarAreocentrica )"
   ]
  },
  {
   "cell_type": "code",
   "execution_count": 31,
   "id": "22db49a4-2e44-4588-8acf-be1712d5dcde",
   "metadata": {},
   "outputs": [
    {
     "data": {
      "text/html": [
       "<div>\n",
       "<style scoped>\n",
       "    .dataframe tbody tr th:only-of-type {\n",
       "        vertical-align: middle;\n",
       "    }\n",
       "\n",
       "    .dataframe tbody tr th {\n",
       "        vertical-align: top;\n",
       "    }\n",
       "\n",
       "    .dataframe thead th {\n",
       "        text-align: right;\n",
       "    }\n",
       "</style>\n",
       "<table border=\"1\" class=\"dataframe\">\n",
       "  <thead>\n",
       "    <tr style=\"text-align: right;\">\n",
       "      <th></th>\n",
       "      <th>spacecraftID</th>\n",
       "      <th>vikingMissionYear</th>\n",
       "      <th>longitudeSolarAreocentrica</th>\n",
       "      <th>solMarciano</th>\n",
       "      <th>HoraLocalTerra24</th>\n",
       "      <th>MinutoLocalTerra</th>\n",
       "      <th>SegundoLocalTerra</th>\n",
       "      <th>pressaoPascais</th>\n",
       "    </tr>\n",
       "  </thead>\n",
       "  <tbody>\n",
       "    <tr>\n",
       "      <th>0</th>\n",
       "      <td>VL1</td>\n",
       "      <td>1</td>\n",
       "      <td>1</td>\n",
       "      <td>0</td>\n",
       "      <td>18</td>\n",
       "      <td>0</td>\n",
       "      <td>49</td>\n",
       "      <td>753.4</td>\n",
       "    </tr>\n",
       "  </tbody>\n",
       "</table>\n",
       "</div>"
      ],
      "text/plain": [
       "  spacecraftID  vikingMissionYear  longitudeSolarAreocentrica  solMarciano  \\\n",
       "0          VL1                  1                           1            0   \n",
       "\n",
       "   HoraLocalTerra24  MinutoLocalTerra  SegundoLocalTerra  pressaoPascais  \n",
       "0                18                 0                 49           753.4  "
      ]
     },
     "execution_count": 31,
     "metadata": {},
     "output_type": "execute_result"
    }
   ],
   "source": [
    "df.head(1)"
   ]
  },
  {
   "cell_type": "code",
   "execution_count": 32,
   "id": "f260888e-646a-41e2-a4ec-c5150ebe2373",
   "metadata": {},
   "outputs": [
    {
     "data": {
      "text/plain": [
       "<Axes: >"
      ]
     },
     "execution_count": 32,
     "metadata": {},
     "output_type": "execute_result"
    },
    {
     "data": {
      "image/png": "[encoded data removed]",
      "text/plain": [
       "<Figure size 640x480 with 1 Axes>"
      ]
     },
     "metadata": {},
     "output_type": "display_data"
    }
   ],
   "source": [
    "#plotando os dados de pressão\n",
    "df['pressaoPascais'].plot(kind='line')"
   ]
  },
  {
   "cell_type": "code",
   "execution_count": 36,
   "id": "5435616c-3b78-4781-91b2-101375441dc7",
   "metadata": {},
   "outputs": [
    {
     "data": {
      "text/plain": [
       "<Axes: >"
      ]
     },
     "execution_count": 36,
     "metadata": {},
     "output_type": "execute_result"
    },
    {
     "data": {
      "image/png": "[encoded data removed]",
      "text/plain": [
       "<Figure size 640x480 with 1 Axes>"
      ]
     },
     "metadata": {},
     "output_type": "display_data"
    }
   ],
   "source": [
    "#plotando longitudeSolarAreocentrica\n",
    "#(vulgarmente conhecida como estações do ano)\n",
    "df['longitudeSolarAreocentrica'].plot(kind='line')"
   ]
  },
  {
   "cell_type": "code",
   "execution_count": 49,
   "id": "83984e8a-929e-445d-9b8a-decdaec91126",
   "metadata": {},
   "outputs": [
    {
     "data": {
      "text/plain": [
       "<Axes: xlabel='solMarciano'>"
      ]
     },
     "execution_count": 49,
     "metadata": {},
     "output_type": "execute_result"
    },
    {
     "data": {
      "image/png": "[encoded data removed]",
      "text/plain": [
       "<Figure size 640x480 with 1 Axes>"
      ]
     },
     "metadata": {},
     "output_type": "display_data"
    }
   ],
   "source": [
    "# plotando média de pressão atmosférica para cada sol marciano\n",
    "# mescla de entradas por média de pressão.\n",
    "subdfalfa=df[['solMarciano','pressaoPascais']]\n",
    "subdfalfa.groupby('solMarciano').mean().plot(kind='line')"
   ]
  },
  {
   "cell_type": "code",
   "execution_count": 78,
   "id": "abefdf60-6ef4-4cf9-b81a-a4ada0ca6864",
   "metadata": {},
   "outputs": [
    {
     "data": {
      "text/plain": [
       "<Axes: >"
      ]
     },
     "execution_count": 78,
     "metadata": {},
     "output_type": "execute_result"
    },
    {
     "data": {
      "image/png": "[encoded data removed]",
      "text/plain": [
       "<Figure size 640x480 with 1 Axes>"
      ]
     },
     "metadata": {},
     "output_type": "display_data"
    }
   ],
   "source": [
    "#buscando outliers\n",
    "subdfalfa=df[['solMarciano','pressaoPascais']]\n",
    "subdfalfa.groupby('solMarciano').mean().plot(kind='box')"
   ]
  },
  {
   "cell_type": "code",
   "execution_count": null,
   "id": "0e36b449-ac53-4285-894a-93284c6d40d5",
   "metadata": {},
   "outputs": [],
   "source": []
  }
 ],
 "metadata": {
  "kernelspec": {
   "display_name": "Python 3 (ipykernel)",
   "language": "python",
   "name": "python3"
  },
  "language_info": {
   "codemirror_mode": {
    "name": "ipython",
    "version": 3
   },
   "file_extension": ".py",
   "mimetype": "text/x-python",
   "name": "python",
   "nbconvert_exporter": "python",
   "pygments_lexer": "ipython3",
   "version": "3.11.6"
  }
 },
 "nbformat": 4,
 "nbformat_minor": 5
}
